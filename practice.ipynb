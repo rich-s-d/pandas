{
 "metadata": {
  "language_info": {
   "codemirror_mode": {
    "name": "ipython",
    "version": 3
   },
   "file_extension": ".py",
   "mimetype": "text/x-python",
   "name": "python",
   "nbconvert_exporter": "python",
   "pygments_lexer": "ipython3",
   "version": "3.6.9-final"
  },
  "orig_nbformat": 2,
  "kernelspec": {
   "name": "python3",
   "display_name": "Python 3",
   "language": "python"
  }
 },
 "nbformat": 4,
 "nbformat_minor": 2,
 "cells": [
  {
   "cell_type": "code",
   "execution_count": 3,
   "metadata": {},
   "outputs": [],
   "source": [
    "import pandas as pd"
   ]
  },
  {
   "cell_type": "code",
   "execution_count": 4,
   "metadata": {},
   "outputs": [],
   "source": [
    "fp = r\"/home/parallels/Downloads/FL_insurance_sample.csv\"\n",
    "data = pd.read_csv(fp)\n"
   ]
  },
  {
   "cell_type": "code",
   "execution_count": 5,
   "metadata": {},
   "outputs": [
    {
     "output_type": "stream",
     "name": "stdout",
     "text": [
      "(36634, 18)\n"
     ]
    }
   ],
   "source": [
    "# print(data.head)\n",
    "print(data.shape)"
   ]
  },
  {
   "cell_type": "code",
   "execution_count": 7,
   "metadata": {},
   "outputs": [
    {
     "output_type": "execute_result",
     "data": {
      "text/plain": [
       "   policyID statecode       county  eq_site_limit  hu_site_limit  \\\n",
       "0    119736        FL  CLAY COUNTY       498960.0       498960.0   \n",
       "\n",
       "   fl_site_limit  fr_site_limit  tiv_2011  tiv_2012  eq_site_deductible  \\\n",
       "0       498960.0       498960.0  498960.0  792148.9                 0.0   \n",
       "\n",
       "   hu_site_deductible  fl_site_deductible  fr_site_deductible  point_latitude  \\\n",
       "0              9979.2                 0.0                   0       30.102261   \n",
       "\n",
       "   point_longitude         line construction  point_granularity  \n",
       "0       -81.711777  Residential      Masonry                  1  "
      ],
      "text/html": "<div>\n<style scoped>\n    .dataframe tbody tr th:only-of-type {\n        vertical-align: middle;\n    }\n\n    .dataframe tbody tr th {\n        vertical-align: top;\n    }\n\n    .dataframe thead th {\n        text-align: right;\n    }\n</style>\n<table border=\"1\" class=\"dataframe\">\n  <thead>\n    <tr style=\"text-align: right;\">\n      <th></th>\n      <th>policyID</th>\n      <th>statecode</th>\n      <th>county</th>\n      <th>eq_site_limit</th>\n      <th>hu_site_limit</th>\n      <th>fl_site_limit</th>\n      <th>fr_site_limit</th>\n      <th>tiv_2011</th>\n      <th>tiv_2012</th>\n      <th>eq_site_deductible</th>\n      <th>hu_site_deductible</th>\n      <th>fl_site_deductible</th>\n      <th>fr_site_deductible</th>\n      <th>point_latitude</th>\n      <th>point_longitude</th>\n      <th>line</th>\n      <th>construction</th>\n      <th>point_granularity</th>\n    </tr>\n  </thead>\n  <tbody>\n    <tr>\n      <th>0</th>\n      <td>119736</td>\n      <td>FL</td>\n      <td>CLAY COUNTY</td>\n      <td>498960.0</td>\n      <td>498960.0</td>\n      <td>498960.0</td>\n      <td>498960.0</td>\n      <td>498960.0</td>\n      <td>792148.9</td>\n      <td>0.0</td>\n      <td>9979.2</td>\n      <td>0.0</td>\n      <td>0</td>\n      <td>30.102261</td>\n      <td>-81.711777</td>\n      <td>Residential</td>\n      <td>Masonry</td>\n      <td>1</td>\n    </tr>\n  </tbody>\n</table>\n</div>"
     },
     "metadata": {},
     "execution_count": 7
    }
   ],
   "source": [
    "data.head(1)"
   ]
  },
  {
   "cell_type": "code",
   "execution_count": 8,
   "metadata": {},
   "outputs": [],
   "source": [
    "data1 = {\n",
    "     'name': ['Xavier', 'Ann', 'Jana', 'Yi', 'Robin', 'Amal', 'Nori'],\n",
    "     'city': ['Mexico City', 'Toronto', 'Prague', 'Shanghai',\n",
    "              'Manchester', 'Cairo', 'Osaka'],\n",
    "     'age': [41, 28, 33, 34, 38, 31, 37],\n",
    "     'py-score': [88.0, 79.0, 81.0, 80.0, 68.0, 61.0, 84.0]\n",
    "}\n",
    "\n",
    "row_labels = [101, 102, 103, 104, 105, 106, 107]"
   ]
  },
  {
   "cell_type": "code",
   "execution_count": 12,
   "metadata": {},
   "outputs": [],
   "source": [
    "real_python = pd.DataFrame(data=data1, index=row_labels)"
   ]
  },
  {
   "cell_type": "code",
   "execution_count": 13,
   "metadata": {},
   "outputs": [
    {
     "output_type": "execute_result",
     "data": {
      "text/plain": [
       "       name         city  age  py-score\n",
       "101  Xavier  Mexico City   41      88.0\n",
       "102     Ann      Toronto   28      79.0\n",
       "103    Jana       Prague   33      81.0\n",
       "104      Yi     Shanghai   34      80.0\n",
       "105   Robin   Manchester   38      68.0\n",
       "106    Amal        Cairo   31      61.0\n",
       "107    Nori        Osaka   37      84.0"
      ],
      "text/html": "<div>\n<style scoped>\n    .dataframe tbody tr th:only-of-type {\n        vertical-align: middle;\n    }\n\n    .dataframe tbody tr th {\n        vertical-align: top;\n    }\n\n    .dataframe thead th {\n        text-align: right;\n    }\n</style>\n<table border=\"1\" class=\"dataframe\">\n  <thead>\n    <tr style=\"text-align: right;\">\n      <th></th>\n      <th>name</th>\n      <th>city</th>\n      <th>age</th>\n      <th>py-score</th>\n    </tr>\n  </thead>\n  <tbody>\n    <tr>\n      <th>101</th>\n      <td>Xavier</td>\n      <td>Mexico City</td>\n      <td>41</td>\n      <td>88.0</td>\n    </tr>\n    <tr>\n      <th>102</th>\n      <td>Ann</td>\n      <td>Toronto</td>\n      <td>28</td>\n      <td>79.0</td>\n    </tr>\n    <tr>\n      <th>103</th>\n      <td>Jana</td>\n      <td>Prague</td>\n      <td>33</td>\n      <td>81.0</td>\n    </tr>\n    <tr>\n      <th>104</th>\n      <td>Yi</td>\n      <td>Shanghai</td>\n      <td>34</td>\n      <td>80.0</td>\n    </tr>\n    <tr>\n      <th>105</th>\n      <td>Robin</td>\n      <td>Manchester</td>\n      <td>38</td>\n      <td>68.0</td>\n    </tr>\n    <tr>\n      <th>106</th>\n      <td>Amal</td>\n      <td>Cairo</td>\n      <td>31</td>\n      <td>61.0</td>\n    </tr>\n    <tr>\n      <th>107</th>\n      <td>Nori</td>\n      <td>Osaka</td>\n      <td>37</td>\n      <td>84.0</td>\n    </tr>\n  </tbody>\n</table>\n</div>"
     },
     "metadata": {},
     "execution_count": 13
    }
   ],
   "source": [
    "real_python"
   ]
  },
  {
   "cell_type": "code",
   "execution_count": 36,
   "metadata": {},
   "outputs": [],
   "source": [
    "import numpy as np\n",
    "arr = np.array([[1, 2, 100, 4, 5, 8, 65],\n",
    "               [2, 4, 100, 5, 2, 33, 4],                         \n",
    "               [3, 8, 100, 9, 9, 9, 4]])"
   ]
  },
  {
   "cell_type": "code",
   "execution_count": 37,
   "metadata": {},
   "outputs": [],
   "source": [
    "import pandas as pd\n",
    "\n",
    "df = pd.DataFrame(arr, columns=['a', 'b', 'c', 'd', 'x', 'y', 'z'], index=[x+1000 for x in range(3)])"
   ]
  },
  {
   "cell_type": "code",
   "execution_count": 22,
   "metadata": {},
   "outputs": [
    {
     "output_type": "execute_result",
     "data": {
      "text/plain": [
       "[100, 101, 102, 103, 104]"
      ]
     },
     "metadata": {},
     "execution_count": 22
    }
   ],
   "source": [
    "l = [x+100 for x in range(5)]\n",
    "l"
   ]
  },
  {
   "cell_type": "code",
   "execution_count": 38,
   "metadata": {},
   "outputs": [
    {
     "output_type": "execute_result",
     "data": {
      "text/plain": [
       "      a  b    c  d  x   y   z\n",
       "1000  1  2  100  4  5   8  65\n",
       "1001  2  4  100  5  2  33   4\n",
       "1002  3  8  100  9  9   9   4"
      ],
      "text/html": "<div>\n<style scoped>\n    .dataframe tbody tr th:only-of-type {\n        vertical-align: middle;\n    }\n\n    .dataframe tbody tr th {\n        vertical-align: top;\n    }\n\n    .dataframe thead th {\n        text-align: right;\n    }\n</style>\n<table border=\"1\" class=\"dataframe\">\n  <thead>\n    <tr style=\"text-align: right;\">\n      <th></th>\n      <th>a</th>\n      <th>b</th>\n      <th>c</th>\n      <th>d</th>\n      <th>x</th>\n      <th>y</th>\n      <th>z</th>\n    </tr>\n  </thead>\n  <tbody>\n    <tr>\n      <th>1000</th>\n      <td>1</td>\n      <td>2</td>\n      <td>100</td>\n      <td>4</td>\n      <td>5</td>\n      <td>8</td>\n      <td>65</td>\n    </tr>\n    <tr>\n      <th>1001</th>\n      <td>2</td>\n      <td>4</td>\n      <td>100</td>\n      <td>5</td>\n      <td>2</td>\n      <td>33</td>\n      <td>4</td>\n    </tr>\n    <tr>\n      <th>1002</th>\n      <td>3</td>\n      <td>8</td>\n      <td>100</td>\n      <td>9</td>\n      <td>9</td>\n      <td>9</td>\n      <td>4</td>\n    </tr>\n  </tbody>\n</table>\n</div>"
     },
     "metadata": {},
     "execution_count": 38
    }
   ],
   "source": [
    "df"
   ]
  },
  {
   "source": [
    "When importing a numpy array, copy is set to False. This means that any change to the array will update in the DataFrame.\n"
   ],
   "cell_type": "markdown",
   "metadata": {}
  },
  {
   "cell_type": "code",
   "execution_count": 8,
   "metadata": {},
   "outputs": [],
   "source": [
    "arr[0, 1] = 1000\n",
    "arr[0, 0] = 1000"
   ]
  },
  {
   "cell_type": "code",
   "execution_count": 9,
   "metadata": {},
   "outputs": [
    {
     "output_type": "execute_result",
     "data": {
      "text/plain": [
       "        x     y    z\n",
       "100  1000  1000  100\n",
       "101     2     4  100\n",
       "102     3     8  100"
      ],
      "text/html": "<div>\n<style scoped>\n    .dataframe tbody tr th:only-of-type {\n        vertical-align: middle;\n    }\n\n    .dataframe tbody tr th {\n        vertical-align: top;\n    }\n\n    .dataframe thead th {\n        text-align: right;\n    }\n</style>\n<table border=\"1\" class=\"dataframe\">\n  <thead>\n    <tr style=\"text-align: right;\">\n      <th></th>\n      <th>x</th>\n      <th>y</th>\n      <th>z</th>\n    </tr>\n  </thead>\n  <tbody>\n    <tr>\n      <th>100</th>\n      <td>1000</td>\n      <td>1000</td>\n      <td>100</td>\n    </tr>\n    <tr>\n      <th>101</th>\n      <td>2</td>\n      <td>4</td>\n      <td>100</td>\n    </tr>\n    <tr>\n      <th>102</th>\n      <td>3</td>\n      <td>8</td>\n      <td>100</td>\n    </tr>\n  </tbody>\n</table>\n</div>"
     },
     "metadata": {},
     "execution_count": 9
    }
   ],
   "source": [
    "df"
   ]
  },
  {
   "cell_type": "code",
   "execution_count": 7,
   "metadata": {},
   "outputs": [
    {
     "output_type": "execute_result",
     "data": {
      "text/plain": [
       "100"
      ]
     },
     "metadata": {},
     "execution_count": 7
    }
   ],
   "source": [
    "df.at[100, 'z']"
   ]
  },
  {
   "cell_type": "code",
   "execution_count": 9,
   "metadata": {},
   "outputs": [
    {
     "output_type": "execute_result",
     "data": {
      "text/plain": [
       "100"
      ]
     },
     "metadata": {},
     "execution_count": 9
    }
   ],
   "source": [
    "df.iat[2, 2]"
   ]
  },
  {
   "cell_type": "code",
   "execution_count": 39,
   "metadata": {},
   "outputs": [],
   "source": [
    "df.loc[2:, 'z'] = 9000"
   ]
  },
  {
   "cell_type": "code",
   "execution_count": 45,
   "metadata": {},
   "outputs": [
    {
     "output_type": "execute_result",
     "data": {
      "text/plain": [
       "      a  b    c  d  x   y     z\n",
       "1000  1  2  100  4  5   8  9000\n",
       "1001  2  4  100  5  2  33  9000\n",
       "1002  3  8  100  9  9   9  9000"
      ],
      "text/html": "<div>\n<style scoped>\n    .dataframe tbody tr th:only-of-type {\n        vertical-align: middle;\n    }\n\n    .dataframe tbody tr th {\n        vertical-align: top;\n    }\n\n    .dataframe thead th {\n        text-align: right;\n    }\n</style>\n<table border=\"1\" class=\"dataframe\">\n  <thead>\n    <tr style=\"text-align: right;\">\n      <th></th>\n      <th>a</th>\n      <th>b</th>\n      <th>c</th>\n      <th>d</th>\n      <th>x</th>\n      <th>y</th>\n      <th>z</th>\n    </tr>\n  </thead>\n  <tbody>\n    <tr>\n      <th>1000</th>\n      <td>1</td>\n      <td>2</td>\n      <td>100</td>\n      <td>4</td>\n      <td>5</td>\n      <td>8</td>\n      <td>9000</td>\n    </tr>\n    <tr>\n      <th>1001</th>\n      <td>2</td>\n      <td>4</td>\n      <td>100</td>\n      <td>5</td>\n      <td>2</td>\n      <td>33</td>\n      <td>9000</td>\n    </tr>\n    <tr>\n      <th>1002</th>\n      <td>3</td>\n      <td>8</td>\n      <td>100</td>\n      <td>9</td>\n      <td>9</td>\n      <td>9</td>\n      <td>9000</td>\n    </tr>\n  </tbody>\n</table>\n</div>"
     },
     "metadata": {},
     "execution_count": 45
    }
   ],
   "source": [
    "df"
   ]
  },
  {
   "cell_type": "code",
   "execution_count": 51,
   "metadata": {},
   "outputs": [],
   "source": [
    "new = pd.Series(data=[9,8,7,6,5,4,3], index=df.columns, name=1004)"
   ]
  },
  {
   "cell_type": "code",
   "execution_count": 52,
   "metadata": {},
   "outputs": [],
   "source": [
    "df = df.append(new)"
   ]
  },
  {
   "cell_type": "code",
   "execution_count": 53,
   "metadata": {},
   "outputs": [
    {
     "output_type": "execute_result",
     "data": {
      "text/plain": [
       "      a  b    c  d  x   y     z\n",
       "1000  1  2  100  4  5   8  9000\n",
       "1001  2  4  100  5  2  33  9000\n",
       "1002  3  8  100  9  9   9  9000\n",
       "4     9  8    7  6  5   4     3\n",
       "1004  9  8    7  6  5   4     3"
      ],
      "text/html": "<div>\n<style scoped>\n    .dataframe tbody tr th:only-of-type {\n        vertical-align: middle;\n    }\n\n    .dataframe tbody tr th {\n        vertical-align: top;\n    }\n\n    .dataframe thead th {\n        text-align: right;\n    }\n</style>\n<table border=\"1\" class=\"dataframe\">\n  <thead>\n    <tr style=\"text-align: right;\">\n      <th></th>\n      <th>a</th>\n      <th>b</th>\n      <th>c</th>\n      <th>d</th>\n      <th>x</th>\n      <th>y</th>\n      <th>z</th>\n    </tr>\n  </thead>\n  <tbody>\n    <tr>\n      <th>1000</th>\n      <td>1</td>\n      <td>2</td>\n      <td>100</td>\n      <td>4</td>\n      <td>5</td>\n      <td>8</td>\n      <td>9000</td>\n    </tr>\n    <tr>\n      <th>1001</th>\n      <td>2</td>\n      <td>4</td>\n      <td>100</td>\n      <td>5</td>\n      <td>2</td>\n      <td>33</td>\n      <td>9000</td>\n    </tr>\n    <tr>\n      <th>1002</th>\n      <td>3</td>\n      <td>8</td>\n      <td>100</td>\n      <td>9</td>\n      <td>9</td>\n      <td>9</td>\n      <td>9000</td>\n    </tr>\n    <tr>\n      <th>4</th>\n      <td>9</td>\n      <td>8</td>\n      <td>7</td>\n      <td>6</td>\n      <td>5</td>\n      <td>4</td>\n      <td>3</td>\n    </tr>\n    <tr>\n      <th>1004</th>\n      <td>9</td>\n      <td>8</td>\n      <td>7</td>\n      <td>6</td>\n      <td>5</td>\n      <td>4</td>\n      <td>3</td>\n    </tr>\n  </tbody>\n</table>\n</div>"
     },
     "metadata": {},
     "execution_count": 53
    }
   ],
   "source": [
    "df"
   ]
  },
  {
   "cell_type": "code",
   "execution_count": 54,
   "metadata": {},
   "outputs": [
    {
     "output_type": "execute_result",
     "data": {
      "text/plain": [
       "      a  b    c  d  x   y     z\n",
       "1000  1  2  100  4  5   8  9000\n",
       "1001  2  4  100  5  2  33  9000\n",
       "1002  3  8  100  9  9   9  9000\n",
       "1004  9  8    7  6  5   4     3"
      ],
      "text/html": "<div>\n<style scoped>\n    .dataframe tbody tr th:only-of-type {\n        vertical-align: middle;\n    }\n\n    .dataframe tbody tr th {\n        vertical-align: top;\n    }\n\n    .dataframe thead th {\n        text-align: right;\n    }\n</style>\n<table border=\"1\" class=\"dataframe\">\n  <thead>\n    <tr style=\"text-align: right;\">\n      <th></th>\n      <th>a</th>\n      <th>b</th>\n      <th>c</th>\n      <th>d</th>\n      <th>x</th>\n      <th>y</th>\n      <th>z</th>\n    </tr>\n  </thead>\n  <tbody>\n    <tr>\n      <th>1000</th>\n      <td>1</td>\n      <td>2</td>\n      <td>100</td>\n      <td>4</td>\n      <td>5</td>\n      <td>8</td>\n      <td>9000</td>\n    </tr>\n    <tr>\n      <th>1001</th>\n      <td>2</td>\n      <td>4</td>\n      <td>100</td>\n      <td>5</td>\n      <td>2</td>\n      <td>33</td>\n      <td>9000</td>\n    </tr>\n    <tr>\n      <th>1002</th>\n      <td>3</td>\n      <td>8</td>\n      <td>100</td>\n      <td>9</td>\n      <td>9</td>\n      <td>9</td>\n      <td>9000</td>\n    </tr>\n    <tr>\n      <th>1004</th>\n      <td>9</td>\n      <td>8</td>\n      <td>7</td>\n      <td>6</td>\n      <td>5</td>\n      <td>4</td>\n      <td>3</td>\n    </tr>\n  </tbody>\n</table>\n</div>"
     },
     "metadata": {},
     "execution_count": 54
    }
   ],
   "source": [
    "df = df.drop(labels=[4])\n",
    "df"
   ]
  },
  {
   "source": [
    "map() function applies to every row in a column."
   ],
   "cell_type": "markdown",
   "metadata": {}
  },
  {
   "cell_type": "code",
   "execution_count": 55,
   "metadata": {},
   "outputs": [
    {
     "output_type": "execute_result",
     "data": {
      "text/plain": [
       "       a  b    c  d  x   y     z\n",
       "1000   2  2  100  4  5   8  9000\n",
       "1001   4  4  100  5  2  33  9000\n",
       "1002   6  8  100  9  9   9  9000\n",
       "1004  18  8    7  6  5   4     3"
      ],
      "text/html": "<div>\n<style scoped>\n    .dataframe tbody tr th:only-of-type {\n        vertical-align: middle;\n    }\n\n    .dataframe tbody tr th {\n        vertical-align: top;\n    }\n\n    .dataframe thead th {\n        text-align: right;\n    }\n</style>\n<table border=\"1\" class=\"dataframe\">\n  <thead>\n    <tr style=\"text-align: right;\">\n      <th></th>\n      <th>a</th>\n      <th>b</th>\n      <th>c</th>\n      <th>d</th>\n      <th>x</th>\n      <th>y</th>\n      <th>z</th>\n    </tr>\n  </thead>\n  <tbody>\n    <tr>\n      <th>1000</th>\n      <td>2</td>\n      <td>2</td>\n      <td>100</td>\n      <td>4</td>\n      <td>5</td>\n      <td>8</td>\n      <td>9000</td>\n    </tr>\n    <tr>\n      <th>1001</th>\n      <td>4</td>\n      <td>4</td>\n      <td>100</td>\n      <td>5</td>\n      <td>2</td>\n      <td>33</td>\n      <td>9000</td>\n    </tr>\n    <tr>\n      <th>1002</th>\n      <td>6</td>\n      <td>8</td>\n      <td>100</td>\n      <td>9</td>\n      <td>9</td>\n      <td>9</td>\n      <td>9000</td>\n    </tr>\n    <tr>\n      <th>1004</th>\n      <td>18</td>\n      <td>8</td>\n      <td>7</td>\n      <td>6</td>\n      <td>5</td>\n      <td>4</td>\n      <td>3</td>\n    </tr>\n  </tbody>\n</table>\n</div>"
     },
     "metadata": {},
     "execution_count": 55
    }
   ],
   "source": [
    "df.a = df.a.map(lambda x: x*2)\n",
    "df"
   ]
  },
  {
   "cell_type": "code",
   "execution_count": 56,
   "metadata": {},
   "outputs": [
    {
     "output_type": "execute_result",
     "data": {
      "text/plain": [
       "       a  b    c  d  x   y     z\n",
       "1000   2  1  100  4  5   8  9000\n",
       "1001   4  3  100  5  2  33  9000\n",
       "1002   6  7  100  9  9   9  9000\n",
       "1004  18  7    7  6  5   4     3"
      ],
      "text/html": "<div>\n<style scoped>\n    .dataframe tbody tr th:only-of-type {\n        vertical-align: middle;\n    }\n\n    .dataframe tbody tr th {\n        vertical-align: top;\n    }\n\n    .dataframe thead th {\n        text-align: right;\n    }\n</style>\n<table border=\"1\" class=\"dataframe\">\n  <thead>\n    <tr style=\"text-align: right;\">\n      <th></th>\n      <th>a</th>\n      <th>b</th>\n      <th>c</th>\n      <th>d</th>\n      <th>x</th>\n      <th>y</th>\n      <th>z</th>\n    </tr>\n  </thead>\n  <tbody>\n    <tr>\n      <th>1000</th>\n      <td>2</td>\n      <td>1</td>\n      <td>100</td>\n      <td>4</td>\n      <td>5</td>\n      <td>8</td>\n      <td>9000</td>\n    </tr>\n    <tr>\n      <th>1001</th>\n      <td>4</td>\n      <td>3</td>\n      <td>100</td>\n      <td>5</td>\n      <td>2</td>\n      <td>33</td>\n      <td>9000</td>\n    </tr>\n    <tr>\n      <th>1002</th>\n      <td>6</td>\n      <td>7</td>\n      <td>100</td>\n      <td>9</td>\n      <td>9</td>\n      <td>9</td>\n      <td>9000</td>\n    </tr>\n    <tr>\n      <th>1004</th>\n      <td>18</td>\n      <td>7</td>\n      <td>7</td>\n      <td>6</td>\n      <td>5</td>\n      <td>4</td>\n      <td>3</td>\n    </tr>\n  </tbody>\n</table>\n</div>"
     },
     "metadata": {},
     "execution_count": 56
    }
   ],
   "source": [
    "df.b = df.b.map(lambda x: x-1)\n",
    "df"
   ]
  },
  {
   "cell_type": "code",
   "execution_count": 57,
   "metadata": {},
   "outputs": [
    {
     "output_type": "execute_result",
     "data": {
      "text/plain": [
       "        a    b     c    d    x     y       z\n",
       "1000  1.0  0.5  50.0  2.0  2.5   4.0  4500.0\n",
       "1001  2.0  1.5  50.0  2.5  1.0  16.5  4500.0\n",
       "1002  3.0  3.5  50.0  4.5  4.5   4.5  4500.0\n",
       "1004  9.0  3.5   3.5  3.0  2.5   2.0     1.5"
      ],
      "text/html": "<div>\n<style scoped>\n    .dataframe tbody tr th:only-of-type {\n        vertical-align: middle;\n    }\n\n    .dataframe tbody tr th {\n        vertical-align: top;\n    }\n\n    .dataframe thead th {\n        text-align: right;\n    }\n</style>\n<table border=\"1\" class=\"dataframe\">\n  <thead>\n    <tr style=\"text-align: right;\">\n      <th></th>\n      <th>a</th>\n      <th>b</th>\n      <th>c</th>\n      <th>d</th>\n      <th>x</th>\n      <th>y</th>\n      <th>z</th>\n    </tr>\n  </thead>\n  <tbody>\n    <tr>\n      <th>1000</th>\n      <td>1.0</td>\n      <td>0.5</td>\n      <td>50.0</td>\n      <td>2.0</td>\n      <td>2.5</td>\n      <td>4.0</td>\n      <td>4500.0</td>\n    </tr>\n    <tr>\n      <th>1001</th>\n      <td>2.0</td>\n      <td>1.5</td>\n      <td>50.0</td>\n      <td>2.5</td>\n      <td>1.0</td>\n      <td>16.5</td>\n      <td>4500.0</td>\n    </tr>\n    <tr>\n      <th>1002</th>\n      <td>3.0</td>\n      <td>3.5</td>\n      <td>50.0</td>\n      <td>4.5</td>\n      <td>4.5</td>\n      <td>4.5</td>\n      <td>4500.0</td>\n    </tr>\n    <tr>\n      <th>1004</th>\n      <td>9.0</td>\n      <td>3.5</td>\n      <td>3.5</td>\n      <td>3.0</td>\n      <td>2.5</td>\n      <td>2.0</td>\n      <td>1.5</td>\n    </tr>\n  </tbody>\n</table>\n</div>"
     },
     "metadata": {},
     "execution_count": 57
    }
   ],
   "source": [
    "df = df.apply(lambda x: x/2)\n",
    "df"
   ]
  },
  {
   "cell_type": "code",
   "execution_count": 58,
   "metadata": {},
   "outputs": [
    {
     "output_type": "execute_result",
     "data": {
      "text/plain": [
       "Index(['a', 'b', 'c', 'd', 'x', 'y', 'z'], dtype='object')"
      ]
     },
     "metadata": {},
     "execution_count": 58
    }
   ],
   "source": [
    "df.columns"
   ]
  },
  {
   "cell_type": "code",
   "execution_count": 60,
   "metadata": {},
   "outputs": [
    {
     "output_type": "execute_result",
     "data": {
      "text/plain": [
       "[0.5, 1.5, 3.5]"
      ]
     },
     "metadata": {},
     "execution_count": 60
    }
   ],
   "source": [
    "l = list(df.b.unique())\n",
    "l"
   ]
  },
  {
   "cell_type": "code",
   "execution_count": 63,
   "metadata": {},
   "outputs": [
    {
     "output_type": "execute_result",
     "data": {
      "text/plain": [
       "        a    b     c    d    x     y       z\n",
       "1004  9.0  3.5   3.5  3.0  2.5   2.0     1.5\n",
       "1000  1.0  0.5  50.0  2.0  2.5   4.0  4500.0\n",
       "1002  3.0  3.5  50.0  4.5  4.5   4.5  4500.0\n",
       "1001  2.0  1.5  50.0  2.5  1.0  16.5  4500.0"
      ],
      "text/html": "<div>\n<style scoped>\n    .dataframe tbody tr th:only-of-type {\n        vertical-align: middle;\n    }\n\n    .dataframe tbody tr th {\n        vertical-align: top;\n    }\n\n    .dataframe thead th {\n        text-align: right;\n    }\n</style>\n<table border=\"1\" class=\"dataframe\">\n  <thead>\n    <tr style=\"text-align: right;\">\n      <th></th>\n      <th>a</th>\n      <th>b</th>\n      <th>c</th>\n      <th>d</th>\n      <th>x</th>\n      <th>y</th>\n      <th>z</th>\n    </tr>\n  </thead>\n  <tbody>\n    <tr>\n      <th>1004</th>\n      <td>9.0</td>\n      <td>3.5</td>\n      <td>3.5</td>\n      <td>3.0</td>\n      <td>2.5</td>\n      <td>2.0</td>\n      <td>1.5</td>\n    </tr>\n    <tr>\n      <th>1000</th>\n      <td>1.0</td>\n      <td>0.5</td>\n      <td>50.0</td>\n      <td>2.0</td>\n      <td>2.5</td>\n      <td>4.0</td>\n      <td>4500.0</td>\n    </tr>\n    <tr>\n      <th>1002</th>\n      <td>3.0</td>\n      <td>3.5</td>\n      <td>50.0</td>\n      <td>4.5</td>\n      <td>4.5</td>\n      <td>4.5</td>\n      <td>4500.0</td>\n    </tr>\n    <tr>\n      <th>1001</th>\n      <td>2.0</td>\n      <td>1.5</td>\n      <td>50.0</td>\n      <td>2.5</td>\n      <td>1.0</td>\n      <td>16.5</td>\n      <td>4500.0</td>\n    </tr>\n  </tbody>\n</table>\n</div>"
     },
     "metadata": {},
     "execution_count": 63
    }
   ],
   "source": [
    "df = df.sort_values(by='y', ascending=True)\n",
    "df"
   ]
  },
  {
   "cell_type": "code",
   "execution_count": 64,
   "metadata": {},
   "outputs": [],
   "source": [
    "fp = './array.csv'\n",
    "df.to_csv(fp)"
   ]
  },
  {
   "cell_type": "code",
   "execution_count": null,
   "metadata": {},
   "outputs": [],
   "source": []
  }
 ]
}